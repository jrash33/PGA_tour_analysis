{
 "cells": [
  {
   "cell_type": "markdown",
   "metadata": {},
   "source": [
    "# PGA Tour Player Performance: Web Scrape"
   ]
  },
  {
   "cell_type": "code",
   "execution_count": 1,
   "metadata": {},
   "outputs": [],
   "source": [
    "#import modules\n",
    "import pandas as pd\n",
    "from splinter import Browser\n",
    "from bs4 import BeautifulSoup\n",
    "import requests\n",
    "import time"
   ]
  },
  {
   "cell_type": "code",
   "execution_count": 2,
   "metadata": {},
   "outputs": [],
   "source": [
    "#URL of page to be scraped\n",
    "url = 'https://www.pgatour.com/players.html'"
   ]
  },
  {
   "cell_type": "code",
   "execution_count": 3,
   "metadata": {},
   "outputs": [],
   "source": [
    "#Retrieve page with the requests module\n",
    "response = requests.get(url)"
   ]
  },
  {
   "cell_type": "code",
   "execution_count": 4,
   "metadata": {},
   "outputs": [],
   "source": [
    "#create BeautifulSoup object; parse w 'html.parser'\n",
    "soup = BeautifulSoup(response.text, 'html.parser')"
   ]
  },
  {
   "cell_type": "markdown",
   "metadata": {},
   "source": [
    "### Step 1: Scrape Link to Each Player Stat Page"
   ]
  },
  {
   "cell_type": "code",
   "execution_count": 5,
   "metadata": {},
   "outputs": [],
   "source": [
    "# #execute chromedriver\n",
    "# executable_path = {'executable_path': 'chromedriver.exe'}\n",
    "# browser = Browser('chrome', **executable_path, headless=False)\n",
    "# browser.visit(url)"
   ]
  },
  {
   "cell_type": "code",
   "execution_count": 6,
   "metadata": {},
   "outputs": [],
   "source": [
    "#get html code via beautifulsoup\n",
    "# html = browser.html\n",
    "# soup = BeautifulSoup(html, 'html.parser')\n",
    "#soup.prettify()"
   ]
  },
  {
   "cell_type": "code",
   "execution_count": 7,
   "metadata": {},
   "outputs": [],
   "source": [
    "#get names of all the player links\n",
    "#retrieve the parent divs for all links\n",
    "players = soup.find_all('span',class_=\"name\")"
   ]
  },
  {
   "cell_type": "code",
   "execution_count": 8,
   "metadata": {},
   "outputs": [],
   "source": [
    "#create empty list to accept data\n",
    "player_names = []\n",
    "player_url = []\n",
    "\n",
    "#loop through each parent div and grab the link to the player stat page\n",
    "for player in players:\n",
    "    #get name of player\n",
    "    player_names.append(player.a.text)\n",
    "    #get url for player performance page\n",
    "    player_url.append(player.a['href'])"
   ]
  },
  {
   "cell_type": "markdown",
   "metadata": {},
   "source": [
    "### Step 2: Scrape PGA Performance Data for Each Individual Player"
   ]
  },
  {
   "cell_type": "code",
   "execution_count": 9,
   "metadata": {},
   "outputs": [
    {
     "data": {
      "text/plain": [
       "'https://www.pgatour.com/players/player.52372.cameron-champ.html'"
      ]
     },
     "execution_count": 9,
     "metadata": {},
     "output_type": "execute_result"
    }
   ],
   "source": [
    "#create url for player\n",
    "base_url = 'https://www.pgatour.com'\n",
    "test_url = player_url[107]\n",
    "scrape_url = base_url + test_url\n",
    "#scrape_url = \"https://www.pgatour.com/players/player.01006.john-adams.html\"\n",
    "\n",
    "#go to url page\n",
    "response = requests.get(scrape_url)\n",
    "soup = BeautifulSoup(response.text, 'html.parser')\n",
    "\n",
    "scrape_url"
   ]
  },
  {
   "cell_type": "markdown",
   "metadata": {},
   "source": [
    "### Splinter Method"
   ]
  },
  {
   "cell_type": "code",
   "execution_count": 11,
   "metadata": {},
   "outputs": [],
   "source": [
    "#execute chromedriver\n",
    "executable_path = {'executable_path': 'chromedriver.exe'}\n",
    "browser = Browser('chrome', **executable_path, headless=False)"
   ]
  },
  {
   "cell_type": "code",
   "execution_count": 12,
   "metadata": {},
   "outputs": [],
   "source": [
    "browser.visit(scrape_url)"
   ]
  },
  {
   "cell_type": "code",
   "execution_count": 13,
   "metadata": {
    "scrolled": true
   },
   "outputs": [],
   "source": [
    "browser.click_link_by_partial_text(\"Performance\")\n",
    "time.sleep(1)"
   ]
  },
  {
   "cell_type": "code",
   "execution_count": 14,
   "metadata": {},
   "outputs": [],
   "source": [
    "html = browser.html\n",
    "soup = BeautifulSoup(html, 'html.parser')"
   ]
  },
  {
   "cell_type": "code",
   "execution_count": 103,
   "metadata": {
    "scrolled": false
   },
   "outputs": [],
   "source": [
    "#test to see if javascript rendered data was scraped properly\n",
    "# test = soup.find('div', class_='wrap').find('div', class_='tabbable').find('div', class_=\"performance\").find('div',class_='tab-content') \\\n",
    "# .find('div', class_='tab-pane')\n",
    "# test"
   ]
  },
  {
   "cell_type": "code",
   "execution_count": 359,
   "metadata": {
    "scrolled": true
   },
   "outputs": [],
   "source": [
    "#scrape all html hstat code\n",
    "info = soup.findAll('div', class_='item')\n",
    "\n",
    "#headline stats\n",
    "info_stats = []\n",
    "\n",
    "for i in info:\n",
    "    try:\n",
    "        #get stat name\n",
    "        caption = i.find('div',class_='denotation').text\n",
    "        #get stat value\n",
    "        value = i.find('div', class_='value').text\n",
    "        #clean up text\n",
    "        value = value.replace('\\xa0','')\n",
    "        value = value.replace('\\n','')\n",
    "        #save to dictionary\n",
    "        post = {'caption':caption, 'value': value}\n",
    "        #append to list\n",
    "        info_stats.append(post)\n",
    "    except AttributeError:\n",
    "        nothing = 0"
   ]
  },
  {
   "cell_type": "code",
   "execution_count": 360,
   "metadata": {
    "scrolled": true
   },
   "outputs": [],
   "source": [
    "#scrape all html hstat code\n",
    "hstats = soup.findAll('div', class_='stat')\n",
    "\n",
    "#headline stats\n",
    "h_stats = []\n",
    "for hstat in hstats:\n",
    "    try:\n",
    "        #get stat name\n",
    "        caption = hstat.find('div',class_='caption').text\n",
    "        #get stat value\n",
    "        value = hstat.find('div',class_='value').text\n",
    "        \n",
    "        #save to dictionary\n",
    "        post = {'caption':caption, 'value': value}\n",
    "\n",
    "        #append to list\n",
    "        h_stats.append(post)\n",
    "    except AttributeError:\n",
    "        nothing = 0"
   ]
  },
  {
   "cell_type": "code",
   "execution_count": 361,
   "metadata": {
    "scrolled": true
   },
   "outputs": [],
   "source": [
    "#scrape all html astat code\n",
    "astats = soup.findAll('tr')\n",
    "\n",
    "#attribute stats\n",
    "a_stats = []\n",
    "\n",
    "for astat in astats:\n",
    "    try:\n",
    "        #get the stat name\n",
    "        caption = astat.find('td',class_='caption').text\n",
    "        #get stat value\n",
    "        value = astat.find('td',class_='value').text\n",
    "        \n",
    "        #save to dictionary\n",
    "        post = {'caption':caption, 'value': value}\n",
    "        \n",
    "        #append to list\n",
    "        a_stats.append(post)\n",
    "    except AttributeError:\n",
    "        nothing = 0"
   ]
  },
  {
   "cell_type": "code",
   "execution_count": 242,
   "metadata": {
    "scrolled": true
   },
   "outputs": [],
   "source": [
    "#scrape for additional needed info\n",
    "extrastats = soup.findAll('td')\n",
    "\n",
    "#attribute stats\n",
    "extra_stats = []\n",
    "\n",
    "for extra in extrastats:\n",
    "    try:\n",
    "        #get the stat name\n",
    "        text = extra.text\n",
    "        #append to list\n",
    "        extra_stats.append(text)\n",
    "    except AttributeError:\n",
    "        nothing=0"
   ]
  },
  {
   "cell_type": "code",
   "execution_count": 415,
   "metadata": {},
   "outputs": [],
   "source": [
    "#these attributes are unique with no captions/values-All string format\n",
    "#search sub_strings of desired variables for values\n",
    "sub_strings = ['Total Left rough', 'Total Right rough', 'Possible Fwys', 'Distance Rank', 'Accuracy Rank',\n",
    "      'Total Club Head Speed', 'Total Attempts']\n",
    "\n",
    "extra_stats_var= []\n",
    "for sub in sub_strings:\n",
    "    x = [s for s in extra_stats if sub in s]\n",
    "    x = x[0].split(':')\n",
    "    x[1] = x[1].replace(' ','')\n",
    "    \n",
    "    post = {'caption': x[0], 'value': x[1]}\n",
    "    extra_stats_var.append(post)"
   ]
  },
  {
   "cell_type": "code",
   "execution_count": 347,
   "metadata": {},
   "outputs": [],
   "source": [
    "#function that takes desired variables with your list of dictionaries scraped and returns a clean list of these variables\n",
    "def get_vars(stats, vars_wanted):\n",
    "    stats_vars = []\n",
    "    #iterate through scraped data to find desired variables\n",
    "    for list_item in stats:\n",
    "        dict_item = [value for key,value in list_item.items()]\n",
    "        if dict_item[0] in vars_wanted:\n",
    "            #get rid of duplicates\n",
    "            if dict_item not in stats_vars:\n",
    "                stats_vars.append(dict_item)\n",
    "    return stats_vars"
   ]
  },
  {
   "cell_type": "code",
   "execution_count": 348,
   "metadata": {},
   "outputs": [],
   "source": [
    "#variables wanted from info stats\n",
    "info_var = ['Height', 'Weight', 'AGE', 'Turned Pro', 'College', 'Birthplace' ,'FEDEXCUP Rank', 'FEDEXCUP Points', 'Scoring Average']\n",
    "#variables wanted from headline stats\n",
    "h_var = ['Total Distance', 'Total Drives', '# of Drives', 'Fairways Hit', 'Possible Fairways', 'Measured Rounds']\n",
    "#variables wanted from additional stats\n",
    "a_var = ['Driving Distance','Driving Accuracy Percentage','Total Driving','Club Head Speed',\n",
    "         'Distance from Edge of Fairway','Left Rough Tendency','Right Rough Tendency','Total Driving Efficiency']\n",
    "extra_var = ['Total Left rough', 'Total Right rough', 'Possible Fwys', 'Distance Rank', 'Accuracy Rank',\n",
    "      'Total Club Head Speed', 'Total Attempts']"
   ]
  },
  {
   "cell_type": "code",
   "execution_count": 417,
   "metadata": {},
   "outputs": [],
   "source": [
    "info_stats_vars = get_vars(info_stats, info_var)\n",
    "h_stats_vars = get_vars(h_stats, h_var)\n",
    "a_stats_vars = get_vars(a_stats, a_var)\n",
    "extra_stats_vars = get_vars(extra_stats_var, sub_strings)"
   ]
  },
  {
   "cell_type": "code",
   "execution_count": 421,
   "metadata": {},
   "outputs": [
    {
     "data": {
      "text/plain": [
       "[['Height', '6 ft, 0 in'],\n",
       " ['Weight', '175lbs'],\n",
       " ['AGE', '23'],\n",
       " ['Turned Pro', '2017'],\n",
       " ['College', 'Texas A&M University '],\n",
       " ['Birthplace', 'Sacramento, California'],\n",
       " ['FEDEXCUP Rank', '39'],\n",
       " ['FEDEXCUP Points', '619'],\n",
       " ['Scoring Average', '70.916'],\n",
       " ['Measured Rounds', '38'],\n",
       " ['Total Distance', '29,047'],\n",
       " ['Total Drives', '92'],\n",
       " ['Total Distance', '163,169'],\n",
       " ['# of Drives', '536'],\n",
       " ['Fairways Hit', '354'],\n",
       " ['Possible Fairways', '647'],\n",
       " ['Driving Distance', '315.7'],\n",
       " ['Driving Accuracy Percentage', '54.71%'],\n",
       " ['Distance from Edge of Fairway', '30\\' 4\"'],\n",
       " ['Left Rough Tendency', '15.94%'],\n",
       " ['Right Rough Tendency', '18.60%'],\n",
       " ['Total Driving', '188'],\n",
       " ['Club Head Speed', '129.35'],\n",
       " ['Total Driving Efficiency', '334'],\n",
       " ['Total Left rough', '84'],\n",
       " ['Total Right rough', '98'],\n",
       " ['Possible Fwys', '527'],\n",
       " ['Distance Rank', '1'],\n",
       " ['Accuracy Rank', '187'],\n",
       " ['Total Club Head Speed', '4,397.91'],\n",
       " ['Total Attempts', '34']]"
      ]
     },
     "execution_count": 421,
     "metadata": {},
     "output_type": "execute_result"
    }
   ],
   "source": [
    "#all needed variables for analysis/visualization\n",
    "all_var = info_stats_vars + h_stats_vars + a_stats_vars + extra_stats_vars\n",
    "all_var"
   ]
  },
  {
   "cell_type": "code",
   "execution_count": 430,
   "metadata": {},
   "outputs": [
    {
     "data": {
      "text/plain": [
       "'https://pga-tour-res.cloudinary.com/image/upload/c_fill,d_headshots_default.png,f_auto,g_face:center,h_350,q_auto,w_280/headshots_52372.png'"
      ]
     },
     "execution_count": 430,
     "metadata": {},
     "output_type": "execute_result"
    }
   ],
   "source": [
    "#photo\n",
    "photo_url = soup.find('img', class_='photo')['src']"
   ]
  },
  {
   "cell_type": "code",
   "execution_count": null,
   "metadata": {},
   "outputs": [],
   "source": []
  },
  {
   "cell_type": "code",
   "execution_count": null,
   "metadata": {},
   "outputs": [],
   "source": []
  },
  {
   "cell_type": "code",
   "execution_count": null,
   "metadata": {},
   "outputs": [],
   "source": []
  },
  {
   "cell_type": "code",
   "execution_count": null,
   "metadata": {},
   "outputs": [],
   "source": []
  },
  {
   "cell_type": "code",
   "execution_count": 432,
   "metadata": {
    "scrolled": true
   },
   "outputs": [
    {
     "data": {
      "text/plain": [
       "[<td class=\"date\">10/07/18</td>,\n",
       " <td class=\"date\">10/28/18</td>,\n",
       " <td class=\"date\">11/04/18</td>,\n",
       " <td class=\"date\">11/11/18</td>,\n",
       " <td class=\"date\">11/18/18</td>,\n",
       " <td class=\"date\">12/09/18</td>,\n",
       " <td class=\"date\">1/06/19</td>,\n",
       " <td class=\"date\">1/13/19</td>,\n",
       " <td class=\"date\">1/27/19</td>,\n",
       " <td class=\"date\">2/03/19</td>,\n",
       " <td class=\"date\">2/10/19</td>,\n",
       " <td class=\"date\">2/17/19</td>,\n",
       " <td class=\"date\">3/10/19</td>,\n",
       " <td class=\"date\">3/17/19</td>,\n",
       " <td class=\"date\">4/21/19</td>,\n",
       " <td class=\"date\">4/28/19</td>,\n",
       " <td class=\"date\">5/05/19</td>,\n",
       " <td class=\"date\">10/07/18</td>,\n",
       " <td class=\"date\">10/28/18</td>,\n",
       " <td class=\"date\">11/04/18</td>,\n",
       " <td class=\"date\">11/11/18</td>,\n",
       " <td class=\"date\">11/18/18</td>,\n",
       " <td class=\"date\">12/09/18</td>,\n",
       " <td class=\"date\">1/06/19</td>,\n",
       " <td class=\"date\">1/13/19</td>,\n",
       " <td class=\"date\">1/27/19</td>,\n",
       " <td class=\"date\">2/03/19</td>,\n",
       " <td class=\"date\">2/10/19</td>,\n",
       " <td class=\"date\">2/17/19</td>,\n",
       " <td class=\"date\">3/10/19</td>,\n",
       " <td class=\"date\">3/17/19</td>,\n",
       " <td class=\"date\">4/21/19</td>,\n",
       " <td class=\"date\">4/28/19</td>,\n",
       " <td class=\"date\">5/05/19</td>]"
      ]
     },
     "execution_count": 432,
     "metadata": {},
     "output_type": "execute_result"
    }
   ],
   "source": [
    "soup.findAll('td', class_='date')"
   ]
  },
  {
   "cell_type": "code",
   "execution_count": 470,
   "metadata": {
    "scrolled": true
   },
   "outputs": [
    {
     "data": {
      "text/plain": [
       "[<b class=\"sharing popover-visible\" data-share-url=\"\"><span class=\"icon\" data-original-title=\"\" style=\"display: none;\" title=\"\"></span><div class=\"popover fade bottom in\" style=\"top: 0px; left: 0px; display: block; position: relative;\"><div class=\"arrow\"></div><h3 class=\"popover-title\"></h3><div class=\"popover-content\"><div class=\"share-popup\"><div><h3>SHARE ON</h3><div class=\"link-box\"><span class=\"facebook\"></span><span class=\"twitter\"></span><span class=\"pinterest\"></span><span class=\"tumblr\"></span><span class=\"mailto\"></span></div></div></div></div></div></b>,\n",
       " <b class=\"caret icon-chevron-down\"></b>,\n",
       " <b class=\"icon-chevron-down\"></b>,\n",
       " <b>FULL</b>,\n",
       " <b class=\"sharing\" data-share-url=\"https://www.pgatour.com/players/player.52372.cameron-champ.html\"><span class=\"icon\" data-original-title=\"\" title=\"\"></span></b>,\n",
       " <b>Achievements</b>,\n",
       " <b>Latest</b>,\n",
       " <b>Scoring</b>,\n",
       " <b>Hole 9</b>,\n",
       " <b><!-- react-text: 230 -->Legend<!-- /react-text --><!-- react-text: 231 --> <!-- /react-text --><span class=\"info\"></span></b>,\n",
       " <b>See All</b>,\n",
       " <b>Results</b>,\n",
       " <b><!-- react-text: 17 -->Safeway Open<!-- /react-text --><!-- react-text: 18 --><!-- /react-text --></b>,\n",
       " <b><!-- react-text: 24 -->Sanderson Farms Championship<!-- /react-text --><!-- react-text: 25 --><!-- /react-text --></b>,\n",
       " <b><!-- react-text: 31 -->Shriners Hospitals for Children Open<!-- /react-text --><!-- react-text: 32 --><!-- /react-text --></b>,\n",
       " <b><!-- react-text: 38 -->Mayakoba Golf Classic<!-- /react-text --><!-- react-text: 39 --><!-- /react-text --></b>,\n",
       " <b><!-- react-text: 45 -->The RSM Classic<!-- /react-text --><!-- react-text: 46 --><!-- /react-text --></b>,\n",
       " <b><!-- react-text: 52 -->QBE Shootout<!-- /react-text --><!-- react-text: 53 --> *<!-- /react-text --></b>,\n",
       " <b><!-- react-text: 59 -->Sentry Tournament of Champions<!-- /react-text --><!-- react-text: 60 --><!-- /react-text --></b>,\n",
       " <b><!-- react-text: 66 -->Sony Open in Hawaii<!-- /react-text --><!-- react-text: 67 --><!-- /react-text --></b>,\n",
       " <b><!-- react-text: 85 -->AT&amp;T Pebble Beach Pro-Am<!-- /react-text --><!-- react-text: 86 --><!-- /react-text --></b>,\n",
       " <b><!-- react-text: 116 -->Zurich Classic of New Orleans<!-- /react-text --><!-- react-text: 117 --><!-- /react-text --></b>,\n",
       " <b><!-- react-text: 148 -->Safeway Open<!-- /react-text --><!-- react-text: 149 --><!-- /react-text --></b>,\n",
       " <b>281</b>,\n",
       " <b><!-- react-text: 166 -->Sanderson Farms Championship<!-- /react-text --><!-- react-text: 167 --><!-- /react-text --></b>,\n",
       " <b>267</b>,\n",
       " <b><!-- react-text: 184 -->Shriners Hospitals for Children Open<!-- /react-text --><!-- react-text: 185 --><!-- /react-text --></b>,\n",
       " <b>273</b>,\n",
       " <b><!-- react-text: 202 -->Mayakoba Golf Classic<!-- /react-text --><!-- react-text: 203 --><!-- /react-text --></b>,\n",
       " <b>268</b>,\n",
       " <b><!-- react-text: 220 -->The RSM Classic<!-- /react-text --><!-- react-text: 221 --><!-- /react-text --></b>,\n",
       " <b>266</b>,\n",
       " <b><!-- react-text: 238 -->QBE Shootout<!-- /react-text --><!-- react-text: 239 --> *<!-- /react-text --></b>,\n",
       " <b>202</b>,\n",
       " <b><!-- react-text: 256 -->Sentry Tournament of Champions<!-- /react-text --><!-- react-text: 257 --><!-- /react-text --></b>,\n",
       " <b>280</b>,\n",
       " <b><!-- react-text: 274 -->Sony Open in Hawaii<!-- /react-text --><!-- react-text: 275 --><!-- /react-text --></b>,\n",
       " <b>210</b>,\n",
       " <b><!-- react-text: 324 -->AT&amp;T Pebble Beach Pro-Am<!-- /react-text --><!-- react-text: 325 --><!-- /react-text --></b>,\n",
       " <b>281</b>,\n",
       " <b><!-- react-text: 406 -->Zurich Classic of New Orleans<!-- /react-text --><!-- react-text: 407 --><!-- /react-text --></b>,\n",
       " <b>137</b>,\n",
       " <b>Bold</b>,\n",
       " <b>PGA TOUR: </b>,\n",
       " <b>The RSM Classic: </b>,\n",
       " <b>Mayakoba Golf Classic: </b>,\n",
       " <b>Sanderson Farms Championship: </b>,\n",
       " <b>The RSM Classic: </b>,\n",
       " <b>Mayakoba Golf Classic: </b>,\n",
       " <b>Sanderson Farms Championship: </b>,\n",
       " <b>Utah Championship presented by Zions Bank: </b>,\n",
       " <b>LECOM Health Challenge: </b>,\n",
       " <b>Lincoln Land Championship presented by LRS: </b>,\n",
       " <b>Wichita Open Supporting Wichita's Youth: </b>,\n",
       " <b>Rust-Oleum Championship: </b>,\n",
       " <b>OHL Classic at Mayakoba: </b>,\n",
       " <b>THE PGA TOUR</b>]"
      ]
     },
     "execution_count": 470,
     "metadata": {},
     "output_type": "execute_result"
    }
   ],
   "source": [
    "soup.findAll('b')"
   ]
  },
  {
   "cell_type": "code",
   "execution_count": 486,
   "metadata": {
    "scrolled": true
   },
   "outputs": [
    {
     "data": {
      "text/plain": [
       "[<p><b><!-- react-text: 148 -->Safeway Open<!-- /react-text --><!-- react-text: 149 --><!-- /react-text --></b></p>,\n",
       " <p><b><!-- react-text: 166 -->Sanderson Farms Championship<!-- /react-text --><!-- react-text: 167 --><!-- /react-text --></b></p>,\n",
       " <p><b><!-- react-text: 184 -->Shriners Hospitals for Children Open<!-- /react-text --><!-- react-text: 185 --><!-- /react-text --></b></p>,\n",
       " <p><b><!-- react-text: 202 -->Mayakoba Golf Classic<!-- /react-text --><!-- react-text: 203 --><!-- /react-text --></b></p>,\n",
       " <p><b><!-- react-text: 220 -->The RSM Classic<!-- /react-text --><!-- react-text: 221 --><!-- /react-text --></b></p>,\n",
       " <p><b><!-- react-text: 238 -->QBE Shootout<!-- /react-text --><!-- react-text: 239 --> *<!-- /react-text --></b></p>,\n",
       " <p><b><!-- react-text: 256 -->Sentry Tournament of Champions<!-- /react-text --><!-- react-text: 257 --><!-- /react-text --></b></p>,\n",
       " <p><b><!-- react-text: 274 -->Sony Open in Hawaii<!-- /react-text --><!-- react-text: 275 --><!-- /react-text --></b></p>,\n",
       " <p><!-- react-text: 291 -->Farmers Insurance Open<!-- /react-text --><!-- react-text: 292 --><!-- /react-text --></p>,\n",
       " <p><!-- react-text: 307 -->Waste Management Phoenix Open<!-- /react-text --><!-- react-text: 308 --><!-- /react-text --></p>,\n",
       " <p><b><!-- react-text: 324 -->AT&amp;T Pebble Beach Pro-Am<!-- /react-text --><!-- react-text: 325 --><!-- /react-text --></b></p>,\n",
       " <p><!-- react-text: 341 -->Genesis Open<!-- /react-text --><!-- react-text: 342 --><!-- /react-text --></p>,\n",
       " <p><!-- react-text: 357 -->Arnold Palmer Invitational presented by Mastercard<!-- /react-text --><!-- react-text: 358 --><!-- /react-text --></p>,\n",
       " <p><!-- react-text: 373 -->THE PLAYERS Championship<!-- /react-text --><!-- react-text: 374 --><!-- /react-text --></p>,\n",
       " <p><!-- react-text: 389 -->RBC Heritage<!-- /react-text --><!-- react-text: 390 --><!-- /react-text --></p>,\n",
       " <p><b><!-- react-text: 406 -->Zurich Classic of New Orleans<!-- /react-text --><!-- react-text: 407 --><!-- /react-text --></b></p>,\n",
       " <p><!-- react-text: 423 -->Wells Fargo Championship<!-- /react-text --><!-- react-text: 424 --><!-- /react-text --></p>]"
      ]
     },
     "execution_count": 486,
     "metadata": {},
     "output_type": "execute_result"
    }
   ],
   "source": [
    "bla = soup.findAll('div', class_ = 'holder')\n",
    "dates = soup.findAll('td', class_ = 'date')\n",
    "\n",
    "for i in bla:\n",
    "    x = i.find('tbody')\n",
    "    tourneys = x.findAll('b')\n",
    "    tourneys2 = x.findAll('p')\n",
    "tourneys2"
   ]
  },
  {
   "cell_type": "code",
   "execution_count": 485,
   "metadata": {},
   "outputs": [
    {
     "data": {
      "text/plain": [
       "[<td class=\"date\">10/07/18</td>,\n",
       " <td class=\"date\">10/28/18</td>,\n",
       " <td class=\"date\">11/04/18</td>,\n",
       " <td class=\"date\">11/11/18</td>,\n",
       " <td class=\"date\">11/18/18</td>,\n",
       " <td class=\"date\">12/09/18</td>,\n",
       " <td class=\"date\">1/06/19</td>,\n",
       " <td class=\"date\">1/13/19</td>,\n",
       " <td class=\"date\">1/27/19</td>,\n",
       " <td class=\"date\">2/03/19</td>,\n",
       " <td class=\"date\">2/10/19</td>,\n",
       " <td class=\"date\">2/17/19</td>,\n",
       " <td class=\"date\">3/10/19</td>,\n",
       " <td class=\"date\">3/17/19</td>,\n",
       " <td class=\"date\">4/21/19</td>,\n",
       " <td class=\"date\">4/28/19</td>,\n",
       " <td class=\"date\">5/05/19</td>,\n",
       " <td class=\"date\">10/07/18</td>,\n",
       " <td class=\"date\">10/28/18</td>,\n",
       " <td class=\"date\">11/04/18</td>,\n",
       " <td class=\"date\">11/11/18</td>,\n",
       " <td class=\"date\">11/18/18</td>,\n",
       " <td class=\"date\">12/09/18</td>,\n",
       " <td class=\"date\">1/06/19</td>,\n",
       " <td class=\"date\">1/13/19</td>,\n",
       " <td class=\"date\">1/27/19</td>,\n",
       " <td class=\"date\">2/03/19</td>,\n",
       " <td class=\"date\">2/10/19</td>,\n",
       " <td class=\"date\">2/17/19</td>,\n",
       " <td class=\"date\">3/10/19</td>,\n",
       " <td class=\"date\">3/17/19</td>,\n",
       " <td class=\"date\">4/21/19</td>,\n",
       " <td class=\"date\">4/28/19</td>,\n",
       " <td class=\"date\">5/05/19</td>]"
      ]
     },
     "execution_count": 485,
     "metadata": {},
     "output_type": "execute_result"
    }
   ],
   "source": [
    "dates"
   ]
  },
  {
   "cell_type": "code",
   "execution_count": null,
   "metadata": {},
   "outputs": [],
   "source": []
  },
  {
   "cell_type": "code",
   "execution_count": null,
   "metadata": {},
   "outputs": [],
   "source": []
  },
  {
   "cell_type": "code",
   "execution_count": null,
   "metadata": {},
   "outputs": [],
   "source": []
  },
  {
   "cell_type": "code",
   "execution_count": null,
   "metadata": {},
   "outputs": [],
   "source": []
  },
  {
   "cell_type": "code",
   "execution_count": null,
   "metadata": {},
   "outputs": [],
   "source": []
  },
  {
   "cell_type": "code",
   "execution_count": null,
   "metadata": {},
   "outputs": [],
   "source": []
  },
  {
   "cell_type": "code",
   "execution_count": null,
   "metadata": {},
   "outputs": [],
   "source": []
  }
 ],
 "metadata": {
  "kernelspec": {
   "display_name": "Python 3",
   "language": "python",
   "name": "python3"
  },
  "language_info": {
   "codemirror_mode": {
    "name": "ipython",
    "version": 3
   },
   "file_extension": ".py",
   "mimetype": "text/x-python",
   "name": "python",
   "nbconvert_exporter": "python",
   "pygments_lexer": "ipython3",
   "version": "3.6.5"
  }
 },
 "nbformat": 4,
 "nbformat_minor": 2
}
